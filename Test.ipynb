{
 "cells": [
  {
   "metadata": {
    "ExecuteTime": {
     "end_time": "2024-06-09T17:00:34.826874Z",
     "start_time": "2024-06-09T17:00:33.164041Z"
    }
   },
   "cell_type": "code",
   "source": "!pip install matplotlib",
   "id": "3b174fb8ae76cf44",
   "outputs": [
    {
     "name": "stdout",
     "output_type": "stream",
     "text": [
      "Requirement already satisfied: matplotlib in c:\\users\\crisb\\pycharmprojects\\etl_security\\.venv\\lib\\site-packages (3.9.0)\n",
      "Requirement already satisfied: contourpy>=1.0.1 in c:\\users\\crisb\\pycharmprojects\\etl_security\\.venv\\lib\\site-packages (from matplotlib) (1.2.1)\n",
      "Requirement already satisfied: cycler>=0.10 in c:\\users\\crisb\\pycharmprojects\\etl_security\\.venv\\lib\\site-packages (from matplotlib) (0.12.1)\n",
      "Requirement already satisfied: fonttools>=4.22.0 in c:\\users\\crisb\\pycharmprojects\\etl_security\\.venv\\lib\\site-packages (from matplotlib) (4.53.0)\n",
      "Requirement already satisfied: kiwisolver>=1.3.1 in c:\\users\\crisb\\pycharmprojects\\etl_security\\.venv\\lib\\site-packages (from matplotlib) (1.4.5)\n",
      "Requirement already satisfied: numpy>=1.23 in c:\\users\\crisb\\pycharmprojects\\etl_security\\.venv\\lib\\site-packages (from matplotlib) (1.26.4)\n",
      "Requirement already satisfied: packaging>=20.0 in c:\\users\\crisb\\pycharmprojects\\etl_security\\.venv\\lib\\site-packages (from matplotlib) (24.0)\n",
      "Requirement already satisfied: pillow>=8 in c:\\users\\crisb\\pycharmprojects\\etl_security\\.venv\\lib\\site-packages (from matplotlib) (10.3.0)\n",
      "Requirement already satisfied: pyparsing>=2.3.1 in c:\\users\\crisb\\pycharmprojects\\etl_security\\.venv\\lib\\site-packages (from matplotlib) (3.1.2)\n",
      "Requirement already satisfied: python-dateutil>=2.7 in c:\\users\\crisb\\pycharmprojects\\etl_security\\.venv\\lib\\site-packages (from matplotlib) (2.9.0.post0)\n",
      "Requirement already satisfied: six>=1.5 in c:\\users\\crisb\\pycharmprojects\\etl_security\\.venv\\lib\\site-packages (from python-dateutil>=2.7->matplotlib) (1.16.0)\n"
     ]
    }
   ],
   "execution_count": 4
  },
  {
   "cell_type": "code",
   "id": "initial_id",
   "metadata": {
    "collapsed": true,
    "ExecuteTime": {
     "end_time": "2024-06-09T20:16:07.233335Z",
     "start_time": "2024-06-09T20:16:06.612446Z"
    }
   },
   "source": [
    "import pandas as pd\n",
    "from datetime import timedelta\n",
    "import matplotlib.pyplot as plt\n",
    "import numpy as np\n",
    "\n",
    "# Configurar las fechas deseadas para el filtrado de los datos en formato 'YYYY-MM-DD'\n",
    "initial_date = '2024-05-01'\n",
    "end_date = '2024-05-31'\n",
    "\n",
    "# Configurar las horas deseadas para el filtrado de los datos en formato 'HH:MM:SS' (Horas Laborales en este caso)\n",
    "initial_hour = pd.to_datetime('08:00:00').hour\n",
    "end_hour = pd.to_datetime('18:59:00').hour\n",
    "\n",
    "# Configurar la ubicacion del archivo CSV con los reportes generados\n",
    "path_file = 'C:/Users/crisb/PycharmProjects/ETL_SECURITY/Reports/Reportes Ticketera.csv'\n",
    "\n",
    "# Se carga la data original. Para futuras modifcaciones \n",
    "\n",
    "df_original = pd.read_csv(path_file, sep=',')\n",
    "df_original.head(10)\n",
    "\n",
    "# Se procede a eliminar aquellos tickets cerrados con e tema de Notificaciones Bancarias\n",
    "df = df_original.copy()\n",
    "df = df[df['Temas de ayuda'] != 'RENOVACIONES - NOTIFICACION BANCARIA']\n",
    "\n",
    "df.reset_index(drop=True, inplace=True)\n",
    "\n",
    "# Filtrado desde la fecha inicial hasta la fecha  final deseada\n",
    "df['Fecha de creación'] = pd.to_datetime(df['Fecha de creación'])\n",
    "df['Fecha de cierre'] = pd.to_datetime(df['Fecha de cierre'])\n",
    "\n",
    "\n",
    "df = df[df['Fecha de creación'] >= initial_date]\n",
    "df = df[df['Fecha de creación'] <= end_date]\n",
    "df = df.reset_index(drop=True)\n",
    "\n",
    "# Filtrado de los tickets que fueron creados dentro del horario laboral (08:00 - 18:59)\n",
    "df_in_range = df[df['Fecha de creación'].dt.hour > initial_hour]\n",
    "df_in_range = df_in_range[df_in_range['Fecha de creación'].dt.hour < end_hour]\n",
    "\n",
    "#Filtrado de los tickets que fueron cerrados en el mismo día de su creación\n",
    "df_in_range = df_in_range[df_in_range['Fecha de cierre'].dt.date == df_in_range['Fecha de creación'].dt.date]\n",
    "\n",
    "#Calculo del tiempo de respuesta de cada ticket\n",
    "df_in_range['Time_Open_Ticket'] = df_in_range['Fecha de cierre'] - df_in_range['Fecha de creación']\n",
    "\n",
    "# Funcion para asignar un valor de 1 a los tickets que no han sido reabiertos y un valor adicionado a 1 a los tickets que han sido reabiertos\n",
    "def asignar_valor(contador):\n",
    "    if pd.isnull(contador):\n",
    "        return 1\n",
    "    else:\n",
    "        return contador + 1\n",
    "    \n",
    "# Funcion para asignar un valor de 1 a los tickets que no han sido reabiertos y un valor adicionado a 1 a los tickets que han sido reabiertos\n",
    "df_in_range['Response by Ticket'] = df_in_range['Reabrir contador'].apply(lambda x: asignar_valor(x))\n",
    "\n",
    "# Se agrupan los tickets por agente asignado y se calcula el total de respuestas y el tiempo total de respuesta\n",
    "df_in_range['Total Responses'] = df_in_range.groupby('Agente asignado')['Response by Ticket'].transform('sum')\n",
    "df_in_range['Total Time'] = df_in_range.groupby('Agente asignado')['Time_Open_Ticket'].transform('sum')\n",
    "\n",
    "# Se calcula el tiempo promedio de respuesta de los tickets de renovaciones\n",
    "df_in_range['Average Time'] = df_in_range['Total Time'] / df_in_range['Total Responses']\n",
    "df_in_range['Average Time'] = df_in_range['Average Time'].apply(lambda x: timedelta(seconds=round(x.total_seconds())))\n",
    "df_in_range['Average Time'] = df_in_range['Average Time'].apply(lambda x: str(x).split(' ')[-1])\n",
    "df_final_report = df_in_range.groupby('Agente asignado').agg({'Total Responses': 'first', 'Total Time': 'first', 'Average Time':'first'}).reset_index()\n",
    "\n",
    "df_final_report.sort_values(by='Average Time', ascending=False, inplace=True)\n",
    "df_final_report.info()\n",
    "\n",
    "print(df_final_report)"
   ],
   "outputs": [
    {
     "name": "stdout",
     "output_type": "stream",
     "text": [
      "<class 'pandas.core.frame.DataFrame'>\n",
      "Index: 7 entries, 0 to 4\n",
      "Data columns (total 4 columns):\n",
      " #   Column           Non-Null Count  Dtype          \n",
      "---  ------           --------------  -----          \n",
      " 0   Agente asignado  7 non-null      object         \n",
      " 1   Total Responses  7 non-null      float64        \n",
      " 2   Total Time       7 non-null      timedelta64[ns]\n",
      " 3   Average Time     7 non-null      object         \n",
      "dtypes: float64(1), object(2), timedelta64[ns](1)\n",
      "memory usage: 280.0+ bytes\n",
      "        Agente asignado  Total Responses      Total Time Average Time\n",
      "0          Carlos Giler              9.0 0 days 18:07:13     02:00:48\n",
      "1  Cristhian Benalcazar             13.0 0 days 14:52:57     01:08:41\n",
      "2           Erika Duran             23.0 0 days 13:39:47     00:35:39\n",
      "3       Ginella Alcivar             32.0 0 days 18:07:23     00:33:59\n",
      "5          Jorge Asanza             38.0 0 days 20:41:57     00:32:41\n",
      "6       Julissa Alfonzo            553.0 8 days 06:42:30     00:21:34\n",
      "4     Guillermo  Garcia              1.0 0 days 00:00:01     00:00:01\n"
     ]
    }
   ],
   "execution_count": 23
  },
  {
   "metadata": {
    "ExecuteTime": {
     "end_time": "2024-06-09T20:13:51.015111Z",
     "start_time": "2024-06-09T20:13:50.956922Z"
    }
   },
   "cell_type": "code",
   "source": "df_in_range['Average Time'].str.split(' ')",
   "id": "289db0654a09adb5",
   "outputs": [
    {
     "ename": "AttributeError",
     "evalue": "Can only use .str accessor with string values!",
     "output_type": "error",
     "traceback": [
      "\u001B[1;31m---------------------------------------------------------------------------\u001B[0m",
      "\u001B[1;31mAttributeError\u001B[0m                            Traceback (most recent call last)",
      "Cell \u001B[1;32mIn[17], line 1\u001B[0m\n\u001B[1;32m----> 1\u001B[0m \u001B[43mdf_in_range\u001B[49m\u001B[43m[\u001B[49m\u001B[38;5;124;43m'\u001B[39;49m\u001B[38;5;124;43mAverage Time\u001B[39;49m\u001B[38;5;124;43m'\u001B[39;49m\u001B[43m]\u001B[49m\u001B[38;5;241;43m.\u001B[39;49m\u001B[43mstr\u001B[49m\u001B[38;5;241m.\u001B[39msplit(\u001B[38;5;124m'\u001B[39m\u001B[38;5;124m \u001B[39m\u001B[38;5;124m'\u001B[39m)\n",
      "File \u001B[1;32m~\\PycharmProjects\\ETL_SECURITY\\.venv\\Lib\\site-packages\\pandas\\core\\generic.py:6299\u001B[0m, in \u001B[0;36mNDFrame.__getattr__\u001B[1;34m(self, name)\u001B[0m\n\u001B[0;32m   6292\u001B[0m \u001B[38;5;28;01mif\u001B[39;00m (\n\u001B[0;32m   6293\u001B[0m     name \u001B[38;5;129;01mnot\u001B[39;00m \u001B[38;5;129;01min\u001B[39;00m \u001B[38;5;28mself\u001B[39m\u001B[38;5;241m.\u001B[39m_internal_names_set\n\u001B[0;32m   6294\u001B[0m     \u001B[38;5;129;01mand\u001B[39;00m name \u001B[38;5;129;01mnot\u001B[39;00m \u001B[38;5;129;01min\u001B[39;00m \u001B[38;5;28mself\u001B[39m\u001B[38;5;241m.\u001B[39m_metadata\n\u001B[0;32m   6295\u001B[0m     \u001B[38;5;129;01mand\u001B[39;00m name \u001B[38;5;129;01mnot\u001B[39;00m \u001B[38;5;129;01min\u001B[39;00m \u001B[38;5;28mself\u001B[39m\u001B[38;5;241m.\u001B[39m_accessors\n\u001B[0;32m   6296\u001B[0m     \u001B[38;5;129;01mand\u001B[39;00m \u001B[38;5;28mself\u001B[39m\u001B[38;5;241m.\u001B[39m_info_axis\u001B[38;5;241m.\u001B[39m_can_hold_identifiers_and_holds_name(name)\n\u001B[0;32m   6297\u001B[0m ):\n\u001B[0;32m   6298\u001B[0m     \u001B[38;5;28;01mreturn\u001B[39;00m \u001B[38;5;28mself\u001B[39m[name]\n\u001B[1;32m-> 6299\u001B[0m \u001B[38;5;28;01mreturn\u001B[39;00m \u001B[38;5;28;43mobject\u001B[39;49m\u001B[38;5;241;43m.\u001B[39;49m\u001B[38;5;21;43m__getattribute__\u001B[39;49m\u001B[43m(\u001B[49m\u001B[38;5;28;43mself\u001B[39;49m\u001B[43m,\u001B[49m\u001B[43m \u001B[49m\u001B[43mname\u001B[49m\u001B[43m)\u001B[49m\n",
      "File \u001B[1;32m~\\PycharmProjects\\ETL_SECURITY\\.venv\\Lib\\site-packages\\pandas\\core\\accessor.py:224\u001B[0m, in \u001B[0;36mCachedAccessor.__get__\u001B[1;34m(self, obj, cls)\u001B[0m\n\u001B[0;32m    221\u001B[0m \u001B[38;5;28;01mif\u001B[39;00m obj \u001B[38;5;129;01mis\u001B[39;00m \u001B[38;5;28;01mNone\u001B[39;00m:\n\u001B[0;32m    222\u001B[0m     \u001B[38;5;66;03m# we're accessing the attribute of the class, i.e., Dataset.geo\u001B[39;00m\n\u001B[0;32m    223\u001B[0m     \u001B[38;5;28;01mreturn\u001B[39;00m \u001B[38;5;28mself\u001B[39m\u001B[38;5;241m.\u001B[39m_accessor\n\u001B[1;32m--> 224\u001B[0m accessor_obj \u001B[38;5;241m=\u001B[39m \u001B[38;5;28;43mself\u001B[39;49m\u001B[38;5;241;43m.\u001B[39;49m\u001B[43m_accessor\u001B[49m\u001B[43m(\u001B[49m\u001B[43mobj\u001B[49m\u001B[43m)\u001B[49m\n\u001B[0;32m    225\u001B[0m \u001B[38;5;66;03m# Replace the property with the accessor object. Inspired by:\u001B[39;00m\n\u001B[0;32m    226\u001B[0m \u001B[38;5;66;03m# https://www.pydanny.com/cached-property.html\u001B[39;00m\n\u001B[0;32m    227\u001B[0m \u001B[38;5;66;03m# We need to use object.__setattr__ because we overwrite __setattr__ on\u001B[39;00m\n\u001B[0;32m    228\u001B[0m \u001B[38;5;66;03m# NDFrame\u001B[39;00m\n\u001B[0;32m    229\u001B[0m \u001B[38;5;28mobject\u001B[39m\u001B[38;5;241m.\u001B[39m\u001B[38;5;21m__setattr__\u001B[39m(obj, \u001B[38;5;28mself\u001B[39m\u001B[38;5;241m.\u001B[39m_name, accessor_obj)\n",
      "File \u001B[1;32m~\\PycharmProjects\\ETL_SECURITY\\.venv\\Lib\\site-packages\\pandas\\core\\strings\\accessor.py:191\u001B[0m, in \u001B[0;36mStringMethods.__init__\u001B[1;34m(self, data)\u001B[0m\n\u001B[0;32m    188\u001B[0m \u001B[38;5;28;01mdef\u001B[39;00m \u001B[38;5;21m__init__\u001B[39m(\u001B[38;5;28mself\u001B[39m, data) \u001B[38;5;241m-\u001B[39m\u001B[38;5;241m>\u001B[39m \u001B[38;5;28;01mNone\u001B[39;00m:\n\u001B[0;32m    189\u001B[0m     \u001B[38;5;28;01mfrom\u001B[39;00m \u001B[38;5;21;01mpandas\u001B[39;00m\u001B[38;5;21;01m.\u001B[39;00m\u001B[38;5;21;01mcore\u001B[39;00m\u001B[38;5;21;01m.\u001B[39;00m\u001B[38;5;21;01marrays\u001B[39;00m\u001B[38;5;21;01m.\u001B[39;00m\u001B[38;5;21;01mstring_\u001B[39;00m \u001B[38;5;28;01mimport\u001B[39;00m StringDtype\n\u001B[1;32m--> 191\u001B[0m     \u001B[38;5;28mself\u001B[39m\u001B[38;5;241m.\u001B[39m_inferred_dtype \u001B[38;5;241m=\u001B[39m \u001B[38;5;28;43mself\u001B[39;49m\u001B[38;5;241;43m.\u001B[39;49m\u001B[43m_validate\u001B[49m\u001B[43m(\u001B[49m\u001B[43mdata\u001B[49m\u001B[43m)\u001B[49m\n\u001B[0;32m    192\u001B[0m     \u001B[38;5;28mself\u001B[39m\u001B[38;5;241m.\u001B[39m_is_categorical \u001B[38;5;241m=\u001B[39m \u001B[38;5;28misinstance\u001B[39m(data\u001B[38;5;241m.\u001B[39mdtype, CategoricalDtype)\n\u001B[0;32m    193\u001B[0m     \u001B[38;5;28mself\u001B[39m\u001B[38;5;241m.\u001B[39m_is_string \u001B[38;5;241m=\u001B[39m \u001B[38;5;28misinstance\u001B[39m(data\u001B[38;5;241m.\u001B[39mdtype, StringDtype)\n",
      "File \u001B[1;32m~\\PycharmProjects\\ETL_SECURITY\\.venv\\Lib\\site-packages\\pandas\\core\\strings\\accessor.py:245\u001B[0m, in \u001B[0;36mStringMethods._validate\u001B[1;34m(data)\u001B[0m\n\u001B[0;32m    242\u001B[0m inferred_dtype \u001B[38;5;241m=\u001B[39m lib\u001B[38;5;241m.\u001B[39minfer_dtype(values, skipna\u001B[38;5;241m=\u001B[39m\u001B[38;5;28;01mTrue\u001B[39;00m)\n\u001B[0;32m    244\u001B[0m \u001B[38;5;28;01mif\u001B[39;00m inferred_dtype \u001B[38;5;129;01mnot\u001B[39;00m \u001B[38;5;129;01min\u001B[39;00m allowed_types:\n\u001B[1;32m--> 245\u001B[0m     \u001B[38;5;28;01mraise\u001B[39;00m \u001B[38;5;167;01mAttributeError\u001B[39;00m(\u001B[38;5;124m\"\u001B[39m\u001B[38;5;124mCan only use .str accessor with string values!\u001B[39m\u001B[38;5;124m\"\u001B[39m)\n\u001B[0;32m    246\u001B[0m \u001B[38;5;28;01mreturn\u001B[39;00m inferred_dtype\n",
      "\u001B[1;31mAttributeError\u001B[0m: Can only use .str accessor with string values!"
     ]
    }
   ],
   "execution_count": 17
  },
  {
   "metadata": {
    "ExecuteTime": {
     "end_time": "2024-06-09T20:14:00.915853Z",
     "start_time": "2024-06-09T20:14:00.861979Z"
    }
   },
   "cell_type": "code",
   "source": "df_in_range['Average Time'].str",
   "id": "94cadc082a51c52b",
   "outputs": [
    {
     "ename": "AttributeError",
     "evalue": "Can only use .str accessor with string values!",
     "output_type": "error",
     "traceback": [
      "\u001B[1;31m---------------------------------------------------------------------------\u001B[0m",
      "\u001B[1;31mAttributeError\u001B[0m                            Traceback (most recent call last)",
      "Cell \u001B[1;32mIn[18], line 1\u001B[0m\n\u001B[1;32m----> 1\u001B[0m \u001B[43mdf_in_range\u001B[49m\u001B[43m[\u001B[49m\u001B[38;5;124;43m'\u001B[39;49m\u001B[38;5;124;43mAverage Time\u001B[39;49m\u001B[38;5;124;43m'\u001B[39;49m\u001B[43m]\u001B[49m\u001B[38;5;241;43m.\u001B[39;49m\u001B[43mstr\u001B[49m\n",
      "File \u001B[1;32m~\\PycharmProjects\\ETL_SECURITY\\.venv\\Lib\\site-packages\\pandas\\core\\generic.py:6299\u001B[0m, in \u001B[0;36mNDFrame.__getattr__\u001B[1;34m(self, name)\u001B[0m\n\u001B[0;32m   6292\u001B[0m \u001B[38;5;28;01mif\u001B[39;00m (\n\u001B[0;32m   6293\u001B[0m     name \u001B[38;5;129;01mnot\u001B[39;00m \u001B[38;5;129;01min\u001B[39;00m \u001B[38;5;28mself\u001B[39m\u001B[38;5;241m.\u001B[39m_internal_names_set\n\u001B[0;32m   6294\u001B[0m     \u001B[38;5;129;01mand\u001B[39;00m name \u001B[38;5;129;01mnot\u001B[39;00m \u001B[38;5;129;01min\u001B[39;00m \u001B[38;5;28mself\u001B[39m\u001B[38;5;241m.\u001B[39m_metadata\n\u001B[0;32m   6295\u001B[0m     \u001B[38;5;129;01mand\u001B[39;00m name \u001B[38;5;129;01mnot\u001B[39;00m \u001B[38;5;129;01min\u001B[39;00m \u001B[38;5;28mself\u001B[39m\u001B[38;5;241m.\u001B[39m_accessors\n\u001B[0;32m   6296\u001B[0m     \u001B[38;5;129;01mand\u001B[39;00m \u001B[38;5;28mself\u001B[39m\u001B[38;5;241m.\u001B[39m_info_axis\u001B[38;5;241m.\u001B[39m_can_hold_identifiers_and_holds_name(name)\n\u001B[0;32m   6297\u001B[0m ):\n\u001B[0;32m   6298\u001B[0m     \u001B[38;5;28;01mreturn\u001B[39;00m \u001B[38;5;28mself\u001B[39m[name]\n\u001B[1;32m-> 6299\u001B[0m \u001B[38;5;28;01mreturn\u001B[39;00m \u001B[38;5;28;43mobject\u001B[39;49m\u001B[38;5;241;43m.\u001B[39;49m\u001B[38;5;21;43m__getattribute__\u001B[39;49m\u001B[43m(\u001B[49m\u001B[38;5;28;43mself\u001B[39;49m\u001B[43m,\u001B[49m\u001B[43m \u001B[49m\u001B[43mname\u001B[49m\u001B[43m)\u001B[49m\n",
      "File \u001B[1;32m~\\PycharmProjects\\ETL_SECURITY\\.venv\\Lib\\site-packages\\pandas\\core\\accessor.py:224\u001B[0m, in \u001B[0;36mCachedAccessor.__get__\u001B[1;34m(self, obj, cls)\u001B[0m\n\u001B[0;32m    221\u001B[0m \u001B[38;5;28;01mif\u001B[39;00m obj \u001B[38;5;129;01mis\u001B[39;00m \u001B[38;5;28;01mNone\u001B[39;00m:\n\u001B[0;32m    222\u001B[0m     \u001B[38;5;66;03m# we're accessing the attribute of the class, i.e., Dataset.geo\u001B[39;00m\n\u001B[0;32m    223\u001B[0m     \u001B[38;5;28;01mreturn\u001B[39;00m \u001B[38;5;28mself\u001B[39m\u001B[38;5;241m.\u001B[39m_accessor\n\u001B[1;32m--> 224\u001B[0m accessor_obj \u001B[38;5;241m=\u001B[39m \u001B[38;5;28;43mself\u001B[39;49m\u001B[38;5;241;43m.\u001B[39;49m\u001B[43m_accessor\u001B[49m\u001B[43m(\u001B[49m\u001B[43mobj\u001B[49m\u001B[43m)\u001B[49m\n\u001B[0;32m    225\u001B[0m \u001B[38;5;66;03m# Replace the property with the accessor object. Inspired by:\u001B[39;00m\n\u001B[0;32m    226\u001B[0m \u001B[38;5;66;03m# https://www.pydanny.com/cached-property.html\u001B[39;00m\n\u001B[0;32m    227\u001B[0m \u001B[38;5;66;03m# We need to use object.__setattr__ because we overwrite __setattr__ on\u001B[39;00m\n\u001B[0;32m    228\u001B[0m \u001B[38;5;66;03m# NDFrame\u001B[39;00m\n\u001B[0;32m    229\u001B[0m \u001B[38;5;28mobject\u001B[39m\u001B[38;5;241m.\u001B[39m\u001B[38;5;21m__setattr__\u001B[39m(obj, \u001B[38;5;28mself\u001B[39m\u001B[38;5;241m.\u001B[39m_name, accessor_obj)\n",
      "File \u001B[1;32m~\\PycharmProjects\\ETL_SECURITY\\.venv\\Lib\\site-packages\\pandas\\core\\strings\\accessor.py:191\u001B[0m, in \u001B[0;36mStringMethods.__init__\u001B[1;34m(self, data)\u001B[0m\n\u001B[0;32m    188\u001B[0m \u001B[38;5;28;01mdef\u001B[39;00m \u001B[38;5;21m__init__\u001B[39m(\u001B[38;5;28mself\u001B[39m, data) \u001B[38;5;241m-\u001B[39m\u001B[38;5;241m>\u001B[39m \u001B[38;5;28;01mNone\u001B[39;00m:\n\u001B[0;32m    189\u001B[0m     \u001B[38;5;28;01mfrom\u001B[39;00m \u001B[38;5;21;01mpandas\u001B[39;00m\u001B[38;5;21;01m.\u001B[39;00m\u001B[38;5;21;01mcore\u001B[39;00m\u001B[38;5;21;01m.\u001B[39;00m\u001B[38;5;21;01marrays\u001B[39;00m\u001B[38;5;21;01m.\u001B[39;00m\u001B[38;5;21;01mstring_\u001B[39;00m \u001B[38;5;28;01mimport\u001B[39;00m StringDtype\n\u001B[1;32m--> 191\u001B[0m     \u001B[38;5;28mself\u001B[39m\u001B[38;5;241m.\u001B[39m_inferred_dtype \u001B[38;5;241m=\u001B[39m \u001B[38;5;28;43mself\u001B[39;49m\u001B[38;5;241;43m.\u001B[39;49m\u001B[43m_validate\u001B[49m\u001B[43m(\u001B[49m\u001B[43mdata\u001B[49m\u001B[43m)\u001B[49m\n\u001B[0;32m    192\u001B[0m     \u001B[38;5;28mself\u001B[39m\u001B[38;5;241m.\u001B[39m_is_categorical \u001B[38;5;241m=\u001B[39m \u001B[38;5;28misinstance\u001B[39m(data\u001B[38;5;241m.\u001B[39mdtype, CategoricalDtype)\n\u001B[0;32m    193\u001B[0m     \u001B[38;5;28mself\u001B[39m\u001B[38;5;241m.\u001B[39m_is_string \u001B[38;5;241m=\u001B[39m \u001B[38;5;28misinstance\u001B[39m(data\u001B[38;5;241m.\u001B[39mdtype, StringDtype)\n",
      "File \u001B[1;32m~\\PycharmProjects\\ETL_SECURITY\\.venv\\Lib\\site-packages\\pandas\\core\\strings\\accessor.py:245\u001B[0m, in \u001B[0;36mStringMethods._validate\u001B[1;34m(data)\u001B[0m\n\u001B[0;32m    242\u001B[0m inferred_dtype \u001B[38;5;241m=\u001B[39m lib\u001B[38;5;241m.\u001B[39minfer_dtype(values, skipna\u001B[38;5;241m=\u001B[39m\u001B[38;5;28;01mTrue\u001B[39;00m)\n\u001B[0;32m    244\u001B[0m \u001B[38;5;28;01mif\u001B[39;00m inferred_dtype \u001B[38;5;129;01mnot\u001B[39;00m \u001B[38;5;129;01min\u001B[39;00m allowed_types:\n\u001B[1;32m--> 245\u001B[0m     \u001B[38;5;28;01mraise\u001B[39;00m \u001B[38;5;167;01mAttributeError\u001B[39;00m(\u001B[38;5;124m\"\u001B[39m\u001B[38;5;124mCan only use .str accessor with string values!\u001B[39m\u001B[38;5;124m\"\u001B[39m)\n\u001B[0;32m    246\u001B[0m \u001B[38;5;28;01mreturn\u001B[39;00m inferred_dtype\n",
      "\u001B[1;31mAttributeError\u001B[0m: Can only use .str accessor with string values!"
     ]
    }
   ],
   "execution_count": 18
  },
  {
   "metadata": {
    "ExecuteTime": {
     "end_time": "2024-06-09T20:15:23.381852Z",
     "start_time": "2024-06-09T20:15:23.372Z"
    }
   },
   "cell_type": "code",
   "source": "df_in_range['Average Time'].apply(lambda x: str(x).split(' ')[-1])",
   "id": "66a2159f6fde43d7",
   "outputs": [
    {
     "data": {
      "text/plain": [
       "0      00:21:34\n",
       "1      00:21:34\n",
       "2      00:21:34\n",
       "3      00:21:34\n",
       "5      00:21:34\n",
       "         ...   \n",
       "634    00:21:34\n",
       "635    00:21:34\n",
       "636    00:21:34\n",
       "637    00:21:34\n",
       "638    00:21:34\n",
       "Name: Average Time, Length: 467, dtype: object"
      ]
     },
     "execution_count": 22,
     "metadata": {},
     "output_type": "execute_result"
    }
   ],
   "execution_count": 22
  },
  {
   "metadata": {},
   "cell_type": "code",
   "outputs": [],
   "execution_count": null,
   "source": "",
   "id": "eb567c7d27a8da4b"
  }
 ],
 "metadata": {
  "kernelspec": {
   "display_name": "Python 3",
   "language": "python",
   "name": "python3"
  },
  "language_info": {
   "codemirror_mode": {
    "name": "ipython",
    "version": 2
   },
   "file_extension": ".py",
   "mimetype": "text/x-python",
   "name": "python",
   "nbconvert_exporter": "python",
   "pygments_lexer": "ipython2",
   "version": "2.7.6"
  }
 },
 "nbformat": 4,
 "nbformat_minor": 5
}
